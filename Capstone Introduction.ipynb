{
 "cells": [
  {
   "cell_type": "markdown",
   "metadata": {},
   "source": [
    "<h1>Introduction / Business Problem</h1>"
   ]
  },
  {
   "cell_type": "markdown",
   "metadata": {},
   "source": [
    "This days car accidents is one of the major problem in our day to day life. Seveirity of the accidents may depend on various factors like weather conditions, road conidtion, speed of vehicle, fogg, light conditions, etc.\n",
    "\n",
    "If we can able to facorize the various conditions which have impact on seveirity of the accident and if we can precdict the seveirity of the accident depend upon the various factors then we can prevent many acciedents or atleast minimizes its impact on property or life of a victim.\n",
    "\n",
    "\n",
    "We can able to change some of the conditions like road conditions, car conditions if we get to know their impact on accident. A\n",
    "\n",
    "Depend on the kind of a data we have, we can analyse the which factor have more impact on the accident and try to predict the seveirity of the accident based on that we can create a ML model which can predict the outcome that is seveirity of the accident. \n",
    "\n",
    "This model may helps us to predict and prevent the future cases."
   ]
  },
  {
   "cell_type": "code",
   "execution_count": null,
   "metadata": {},
   "outputs": [],
   "source": []
  }
 ],
 "metadata": {
  "kernelspec": {
   "display_name": "Python 3",
   "language": "python",
   "name": "python3"
  },
  "language_info": {
   "codemirror_mode": {
    "name": "ipython",
    "version": 3
   },
   "file_extension": ".py",
   "mimetype": "text/x-python",
   "name": "python",
   "nbconvert_exporter": "python",
   "pygments_lexer": "ipython3",
   "version": "3.7.6"
  }
 },
 "nbformat": 4,
 "nbformat_minor": 4
}
